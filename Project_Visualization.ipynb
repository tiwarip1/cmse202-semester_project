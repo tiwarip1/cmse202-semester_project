{
 "cells": [
  {
   "cell_type": "code",
   "execution_count": 1,
   "metadata": {},
   "outputs": [
    {
     "data": {
      "text/html": [
       "<div id=\"scene0\"><div id=\"glowscript\" class=\"glowscript\"></div></div>"
      ],
      "text/plain": [
       "<IPython.core.display.HTML object>"
      ]
     },
     "metadata": {},
     "output_type": "display_data"
    },
    {
     "data": {
      "application/javascript": [
       "require.undef(\"nbextensions/glow.1.0.min\");"
      ],
      "text/plain": [
       "<IPython.core.display.Javascript object>"
      ]
     },
     "metadata": {},
     "output_type": "display_data"
    },
    {
     "data": {
      "application/javascript": [
       "require.undef(\"nbextensions/jquery-ui.custom.min\");"
      ],
      "text/plain": [
       "<IPython.core.display.Javascript object>"
      ]
     },
     "metadata": {},
     "output_type": "display_data"
    },
    {
     "data": {
      "application/javascript": [
       "require.undef(\"nbextensions/glow.1.1.min\");"
      ],
      "text/plain": [
       "<IPython.core.display.Javascript object>"
      ]
     },
     "metadata": {},
     "output_type": "display_data"
    },
    {
     "data": {
      "application/javascript": [
       "require.undef(\"nbextensions/glow.1.2.min\");"
      ],
      "text/plain": [
       "<IPython.core.display.Javascript object>"
      ]
     },
     "metadata": {},
     "output_type": "display_data"
    },
    {
     "data": {
      "application/javascript": [
       "require.undef(\"nbextensions/glow.2.0.min\");"
      ],
      "text/plain": [
       "<IPython.core.display.Javascript object>"
      ]
     },
     "metadata": {},
     "output_type": "display_data"
    },
    {
     "data": {
      "application/javascript": [
       "require.undef(\"nbextensions/glowcomm\");"
      ],
      "text/plain": [
       "<IPython.core.display.Javascript object>"
      ]
     },
     "metadata": {},
     "output_type": "display_data"
    },
    {
     "data": {
      "application/javascript": [
       "require.undef(\"nbextensions/ivglowcomm\");"
      ],
      "text/plain": [
       "<IPython.core.display.Javascript object>"
      ]
     },
     "metadata": {},
     "output_type": "display_data"
    },
    {
     "data": {
      "application/javascript": [
       "require([\"nbextensions/ivglowcomm\"], function(){console.log(\"ivisual glowcomm loaded\");})"
      ],
      "text/plain": [
       "<IPython.core.display.Javascript object>"
      ]
     },
     "metadata": {},
     "output_type": "display_data"
    }
   ],
   "source": [
    "from __future__ import division, print_function\n",
    "from ivisual import *\n",
    "#create scene\n",
    "scene = canvas(title='3D scene')"
   ]
  },
  {
   "cell_type": "code",
   "execution_count": 17,
   "metadata": {
    "collapsed": true
   },
   "outputs": [],
   "source": []
  },
  {
   "cell_type": "code",
   "execution_count": 2,
   "metadata": {},
   "outputs": [
    {
     "ename": "NameError",
     "evalue": "name 'boxsize' is not defined",
     "output_type": "error",
     "traceback": [
      "\u001b[0;31m---------------------------------------------------------------------------\u001b[0m",
      "\u001b[0;31mNameError\u001b[0m                                 Traceback (most recent call last)",
      "\u001b[0;32m<ipython-input-2-1b4155540b38>\u001b[0m in \u001b[0;36m<module>\u001b[0;34m()\u001b[0m\n\u001b[0;32m----> 1\u001b[0;31m \u001b[0mtype\u001b[0m\u001b[0;34m(\u001b[0m\u001b[0mboxsize\u001b[0m\u001b[0;34m)\u001b[0m\u001b[0;34m\u001b[0m\u001b[0m\n\u001b[0m",
      "\u001b[0;31mNameError\u001b[0m: name 'boxsize' is not defined"
     ]
    }
   ],
   "source": [
    "type(boxsize)"
   ]
  },
  {
   "cell_type": "code",
   "execution_count": 4,
   "metadata": {},
   "outputs": [
    {
     "ename": "SyntaxError",
     "evalue": "invalid syntax (<ipython-input-4-0196c0ff47b3>, line 4)",
     "output_type": "error",
     "traceback": [
      "\u001b[0;36m  File \u001b[0;32m\"<ipython-input-4-0196c0ff47b3>\"\u001b[0;36m, line \u001b[0;32m4\u001b[0m\n\u001b[0;31m    p1 =\u001b[0m\n\u001b[0m         ^\u001b[0m\n\u001b[0;31mSyntaxError\u001b[0m\u001b[0;31m:\u001b[0m invalid syntax\n"
     ]
    }
   ],
   "source": [
    "from ivisual import *\n",
    "import random \n",
    "def particle(x,t,m):\n",
    "    p1 = "
   ]
  },
  {
   "cell_type": "code",
   "execution_count": 2,
   "metadata": {},
   "outputs": [
    {
     "data": {
      "text/html": [
       "<div id=\"scene1\"><div id=\"glowscript\" class=\"glowscript\"></div></div>"
      ],
      "text/plain": [
       "<IPython.core.display.HTML object>"
      ]
     },
     "metadata": {},
     "output_type": "display_data"
    },
    {
     "data": {
      "application/javascript": [
       "window.__context = { glowscript_container: $(\"#glowscript\").removeAttr(\"id\")}"
      ],
      "text/plain": [
       "<IPython.core.display.Javascript object>"
      ]
     },
     "metadata": {},
     "output_type": "display_data"
    },
    {
     "ename": "KeyboardInterrupt",
     "evalue": "",
     "output_type": "error",
     "traceback": [
      "\u001b[0;31m---------------------------------------------------------------------------\u001b[0m",
      "\u001b[0;31mKeyboardInterrupt\u001b[0m                         Traceback (most recent call last)",
      "\u001b[0;32m<ipython-input-2-dd22cff9ba44>\u001b[0m in \u001b[0;36m<module>\u001b[0;34m()\u001b[0m\n\u001b[1;32m    198\u001b[0m \u001b[0;31m#    scatter()\u001b[0m\u001b[0;34m\u001b[0m\u001b[0;34m\u001b[0m\u001b[0m\n\u001b[1;32m    199\u001b[0m \u001b[0;31m#    reflect()\u001b[0m\u001b[0;34m\u001b[0m\u001b[0;34m\u001b[0m\u001b[0m\n\u001b[0;32m--> 200\u001b[0;31m     \u001b[0mreflect1\u001b[0m\u001b[0;34m(\u001b[0m\u001b[0;34m)\u001b[0m\u001b[0;34m\u001b[0m\u001b[0m\n\u001b[0m\u001b[1;32m    201\u001b[0m     \u001b[0mmove\u001b[0m\u001b[0;34m(\u001b[0m\u001b[0;34m)\u001b[0m\u001b[0;34m\u001b[0m\u001b[0m\n\u001b[1;32m    202\u001b[0m \u001b[0;34m\u001b[0m\u001b[0m\n",
      "\u001b[0;32m<ipython-input-2-dd22cff9ba44>\u001b[0m in \u001b[0;36mreflect1\u001b[0;34m()\u001b[0m\n\u001b[1;32m    103\u001b[0m     \u001b[0;32mglobal\u001b[0m \u001b[0mboxsize\u001b[0m\u001b[0;34m\u001b[0m\u001b[0m\n\u001b[1;32m    104\u001b[0m     \u001b[0;32mfor\u001b[0m \u001b[0mparticle\u001b[0m \u001b[0;32min\u001b[0m \u001b[0mparticles\u001b[0m\u001b[0;34m:\u001b[0m\u001b[0;34m\u001b[0m\u001b[0m\n\u001b[0;32m--> 105\u001b[0;31m         \u001b[0;32mif\u001b[0m \u001b[0mparticle\u001b[0m\u001b[0;34m.\u001b[0m\u001b[0mpos\u001b[0m\u001b[0;34m.\u001b[0m\u001b[0mx\u001b[0m\u001b[0;34m>=\u001b[0m\u001b[0mwallM\u001b[0m\u001b[0;34m.\u001b[0m\u001b[0mpos\u001b[0m\u001b[0;34m.\u001b[0m\u001b[0mx\u001b[0m \u001b[0;32mor\u001b[0m \u001b[0mparticle\u001b[0m\u001b[0;34m.\u001b[0m\u001b[0mpos\u001b[0m\u001b[0;34m.\u001b[0m\u001b[0mx\u001b[0m\u001b[0;34m<=\u001b[0m\u001b[0mwallL\u001b[0m\u001b[0;34m.\u001b[0m\u001b[0mpos\u001b[0m\u001b[0;34m.\u001b[0m\u001b[0mx\u001b[0m\u001b[0;34m:\u001b[0m\u001b[0;34m\u001b[0m\u001b[0m\n\u001b[0m\u001b[1;32m    106\u001b[0m             \u001b[0mparticle\u001b[0m\u001b[0;34m.\u001b[0m\u001b[0mvelocity\u001b[0m\u001b[0;34m.\u001b[0m\u001b[0mx\u001b[0m\u001b[0;34m=\u001b[0m\u001b[0;34m-\u001b[0m\u001b[0mparticle\u001b[0m\u001b[0;34m.\u001b[0m\u001b[0mvelocity\u001b[0m\u001b[0;34m.\u001b[0m\u001b[0mx\u001b[0m\u001b[0;34m\u001b[0m\u001b[0m\n\u001b[1;32m    107\u001b[0m         \u001b[0;32mif\u001b[0m \u001b[0mparticle\u001b[0m\u001b[0;34m.\u001b[0m\u001b[0mpos\u001b[0m\u001b[0;34m.\u001b[0m\u001b[0my\u001b[0m\u001b[0;34m>=\u001b[0m\u001b[0mwallT\u001b[0m\u001b[0;34m.\u001b[0m\u001b[0mpos\u001b[0m\u001b[0;34m.\u001b[0m\u001b[0my\u001b[0m \u001b[0;32mor\u001b[0m \u001b[0mparticle\u001b[0m\u001b[0;34m.\u001b[0m\u001b[0mpos\u001b[0m\u001b[0;34m.\u001b[0m\u001b[0my\u001b[0m\u001b[0;34m<=\u001b[0m\u001b[0mwallBo\u001b[0m\u001b[0;34m.\u001b[0m\u001b[0mpos\u001b[0m\u001b[0;34m.\u001b[0m\u001b[0my\u001b[0m\u001b[0;34m:\u001b[0m\u001b[0;34m\u001b[0m\u001b[0m\n",
      "\u001b[0;32m/Users/Nathan/anaconda/lib/python3.6/site-packages/ivisual/visual.py\u001b[0m in \u001b[0;36mx\u001b[0;34m(self)\u001b[0m\n\u001b[1;32m    739\u001b[0m         \u001b[0mself\u001b[0m\u001b[0;34m.\u001b[0m\u001b[0m_value\u001b[0m \u001b[0;34m=\u001b[0m \u001b[0;34m[\u001b[0m\u001b[0mvalue\u001b[0m\u001b[0;34m[\u001b[0m\u001b[0;36m0\u001b[0m\u001b[0;34m]\u001b[0m\u001b[0;34m,\u001b[0m \u001b[0mvalue\u001b[0m\u001b[0;34m[\u001b[0m\u001b[0;36m1\u001b[0m\u001b[0;34m]\u001b[0m\u001b[0;34m,\u001b[0m \u001b[0mvalue\u001b[0m\u001b[0;34m[\u001b[0m\u001b[0;36m2\u001b[0m\u001b[0;34m]\u001b[0m\u001b[0;34m]\u001b[0m\u001b[0;34m\u001b[0m\u001b[0m\n\u001b[1;32m    740\u001b[0m \u001b[0;34m\u001b[0m\u001b[0m\n\u001b[0;32m--> 741\u001b[0;31m     \u001b[0;34m@\u001b[0m\u001b[0mproperty\u001b[0m\u001b[0;34m\u001b[0m\u001b[0m\n\u001b[0m\u001b[1;32m    742\u001b[0m     \u001b[0;32mdef\u001b[0m \u001b[0mx\u001b[0m\u001b[0;34m(\u001b[0m\u001b[0mself\u001b[0m\u001b[0;34m)\u001b[0m\u001b[0;34m:\u001b[0m\u001b[0;34m\u001b[0m\u001b[0m\n\u001b[1;32m    743\u001b[0m         \u001b[0;32mreturn\u001b[0m \u001b[0mself\u001b[0m\u001b[0;34m.\u001b[0m\u001b[0m_value\u001b[0m\u001b[0;34m[\u001b[0m\u001b[0;36m0\u001b[0m\u001b[0;34m]\u001b[0m\u001b[0;34m\u001b[0m\u001b[0m\n",
      "\u001b[0;31mKeyboardInterrupt\u001b[0m: "
     ]
    }
   ],
   "source": [
    "from ivisual import *\n",
    "from random import random\n",
    "# The list of all particles\n",
    "scene = canvas(title='3D scene')\n",
    "particles=[]\n",
    "# The timestep length (might need to be adjusted)\n",
    "dt=0.01\n",
    "# The rate\n",
    "dtrate=100\n",
    "# How many particles\n",
    "number_particles=100\n",
    "# Box size, x_min, x_max, y_min, ...\n",
    "boxsize=(-2,2,-2,2,-2,2)\n",
    "# Maximum velocity\n",
    "maxvelo=3\n",
    "# Maximum mass\n",
    "maxmass=10\n",
    "\n",
    "# The following function makes a particle\n",
    "# at the given position and with the given\n",
    "# velocity.\n",
    "# Assume constant density, radius proportional\n",
    "# to m^(1/3).\n",
    "# col determines color\n",
    "#\n",
    "def makeparticle(position,velocity,mass,col):\n",
    "    # Make a new particle\n",
    "    newparticle=sphere(pos=position,radius=0.2*mass**(1./3.),color=col)\n",
    "    # Give it mass\n",
    "    newparticle.mass=mass\n",
    "    # Give it velocity\n",
    "    newparticle.velocity=vector(velocity)\n",
    "    # Put it into the list of particles to take care of\n",
    "    particles.append(newparticle)\n",
    "#\n",
    "# The following removes the particle in the argument\n",
    "#\n",
    "def destroyparticle(thisparticle):\n",
    "    # Remove it from the list of particles to take care of\n",
    "    particles.remove(thisparticle)\n",
    "    # Make it invisible\n",
    "    thisparticle.visible=false\n",
    "    # Delete it\n",
    "    del thisparticle\n",
    "            \n",
    "\"\"\"#\n",
    "# Classical hard sphere scattering\n",
    "# The following scatters two particles elastically\n",
    "# Modifies their velocities\n",
    "#\n",
    "def scatter_particles(p1,p2):\n",
    "# Difference vector\n",
    "    diff=p2.pos-p1.pos\n",
    "    distance=mag(diff)\n",
    "# Do they even touch?\n",
    "    if distance<=p1.radius+p2.radius:\n",
    "# Yes, they do\n",
    "# Only scatter them if they are actually\n",
    "# moving toward each other\n",
    "        nextpos1=p1.pos+p1.velocity*dt\n",
    "        nextpos2=p2.pos+p2.velocity*dt\n",
    "        if mag(nextpos2-nextpos1)<distance:\n",
    "# Time to colide!\n",
    "# Direction of difference vector\n",
    "            rhat=norm(diff)\n",
    "# Momenta\n",
    "            mv1=p1.mass*p1.velocity\n",
    "            mv2=p2.mass*p2.velocity\n",
    "# Calculate the momentum transfer\n",
    "            transfer=2.*dot(p1.mass*mv2-p2.mass*mv1,rhat)/(p1.mass+p2.mass)*rhat\n",
    "# Get new velocities\n",
    "            p1.velocity=(mv1+transfer)/p1.mass\n",
    "            p2.velocity=(mv2-transfer)/p2.mass\n",
    "\n",
    "#\n",
    "# Do scattering of particles\n",
    "#\n",
    "def scatter():\n",
    "# Go over all particles\n",
    "    for i in range(0,len(particles)):\n",
    "# Go over all possible scattering partners\n",
    "        for j in range(i+1,len(particles)):\n",
    "            scatter_particles(particles[i],particles[j])\"\"\"\n",
    "\n",
    "#\n",
    "# Move particles to next timestep\n",
    "#\n",
    "def move():\n",
    "    for particle in particles:\n",
    "        particle.pos+=particle.velocity*dt\n",
    "#\n",
    "# ========================================================\n",
    "# ========================================================\n",
    "#\n",
    "# Listen for keys\n",
    "# Modify this for interactions\n",
    "#\n",
    "\n",
    "#\n",
    "# Do reflection of particles\n",
    "#\n",
    "def reflect1():\n",
    "    global boxsize\n",
    "    for particle in particles:\n",
    "        if particle.pos.x>=wallM.pos.x or particle.pos.x<=wallL.pos.x:\n",
    "            particle.velocity.x=-particle.velocity.x\n",
    "        if particle.pos.y>=wallT.pos.y or particle.pos.y<=wallBo.pos.y:\n",
    "            particle.velocity.y=-particle.velocity.y\n",
    "        if particle.pos.z>=wallF.pos.z or particle.pos.z<=wallBa.pos.z:\n",
    "            particle.velocity.z=-particle.velocity.z\n",
    "\"\"\"def reflect():\n",
    "    global boxsize\n",
    "    for particle in particles:\n",
    "        if particle.pos.x>=boxsize[1] or particle.pos.x<=boxsize[0]:\n",
    "            particle.velocity.x=-particle.velocity.x\n",
    "        if particle.pos.y>=boxsize[3] or particle.pos.y<=boxsize[2]:\n",
    "            particle.velocity.y=-particle.velocity.y\n",
    "        if particle.pos.z>=boxsize[5] or particle.pos.z<=boxsize[4]:\n",
    "            particle.velocity.z=-particle.velocity.z\"\"\"\n",
    "#\n",
    "# Litte routine that calculates total energy and momentum\n",
    "# Just for demo\n",
    "def print_stats():\n",
    "    energy=0\n",
    "    momentum=vector(0,0,0)\n",
    "    speed=0\n",
    "    for particle in particles:\n",
    "        momentum+=particle.mass*particle.velocity\n",
    "        energy+=.5*particle.mass*mag2(particle.velocity)\n",
    "        speed+=sqrt(particle.velocity.x**2+particle.velocity.y**2+particle.velocity.z**2)\n",
    "    print (\"Momentum\",momentum)\n",
    "    print (\"Energy\",energy)\n",
    "    print (\"Speed\",speed)\n",
    "# ========================================================\n",
    "# Main program\n",
    "# Setting up things\n",
    "# Make the box\n",
    "\"\"\"box(pos=((boxsize[1]+boxsize[0])/2.,\n",
    "         (boxsize[3]+boxsize[2])/2.,\n",
    "         (boxsize[5]+boxsize[4])/2.),\n",
    "    size=(boxsize[1]-boxsize[0],\n",
    "          boxsize[3]-boxsize[2],\n",
    "          boxsize[5]-boxsize[4]),\n",
    "    color=color.white,\n",
    "    opacity=0.1)\"\"\"\n",
    "\n",
    "wallR=box(pos=(7,0,0),size=(0.2,14,14),color=color.white,opacity=0.1)\n",
    "wallL=box(pos=(-7,0,0),size=(0.2,14,14),color=color.white,opacity=0.1)\n",
    "wallT=box(pos=(0,7,0),size=(14,0.2,14),color=color.white,opacity=0.1)\n",
    "wallBo=box(pos=(0,-7,0),size=(14,0.2,14),color=color.white,opacity=0.1)\n",
    "wallBa=box(pos=(0,0,-7),size=(14,14,0.2),color=color.white,opacity=0.1)\n",
    "wallF=box(pos=(0,0,7),size=(14,14,0.2),color=color.white,opacity=0.1)\n",
    "wallM=box(pos=(0,0,0),size=(0.2,14,14),color=color.white,opacity=0.1)\n",
    "\n",
    "\n",
    "# Make a bunch of totally random particles inside box\n",
    "\n",
    "\"\"\"for i in range(0,number_particles):\n",
    "    makeparticle((boxsize[0]+(boxsize[1]-boxsize[0])*random(),\n",
    "                  boxsize[2]+(boxsize[3]-boxsize[2])*random(),\n",
    "                  boxsize[4]+(boxsize[5]-boxsize[4])*random()),\n",
    "                 (maxvelo*(1.-2.*random()),\n",
    "                  maxvelo*(1.-2.*random()),\n",
    "                  maxvelo*(1.-2.*random())),\n",
    "                 1.+(maxmass-1.)*random(),\n",
    "                 (random(),random(),random()))\"\"\"\n",
    "for i in range(0,number_particles):\n",
    "    makeparticle(((wallL.pos.x+(wallM.pos.x))*random(),\n",
    "                  ((wallT.pos.y))*random(),\n",
    "                  ((wallF.pos.z))*random()),\n",
    "                 (maxvelo*(1.-2.*random()),\n",
    "                  maxvelo*(1.-2.*random()),\n",
    "                  maxvelo*(1.-2.*random())),\n",
    "                 1.+(maxmass-1.)*random(),\n",
    "                 (random(),random(),random()))\n",
    "\"\"\"def listenkeys():\n",
    "# Was a key pressed?\n",
    "    if scene.keys:\n",
    "# Yes, which one?\n",
    "        s=scene.getkey()\n",
    "# This is where you have to add all your keys\n",
    "# \"x\" exits\n",
    "        if s=='x':\n",
    "            exit()\n",
    "# \"s\" prints all your stats\n",
    "        if s==\"s\":\n",
    "            print_stats()\n",
    "        if s==\" \":          \n",
    "            wallM.pos.x = wallR.pos.x\n",
    "            print (\"Done\")\n",
    "            \"\"\"\n",
    "# Keep the scene from expanding\n",
    "scene.autoscale=False\n",
    "# Infinite loop\n",
    "while True:\n",
    "    rate(dtrate)\n",
    "##    listenkeys()\n",
    "#    scatter()\n",
    "#    reflect()\n",
    "    reflect1()\n",
    "    move()\n",
    "                              \n",
    "\n",
    "    \n",
    "\n",
    "\n"
   ]
  },
  {
   "cell_type": "code",
   "execution_count": null,
   "metadata": {
    "collapsed": true
   },
   "outputs": [],
   "source": [
    " "
   ]
  }
 ],
 "metadata": {
  "kernelspec": {
   "display_name": "Python 3",
   "language": "python",
   "name": "python3"
  },
  "language_info": {
   "codemirror_mode": {
    "name": "ipython",
    "version": 3
   },
   "file_extension": ".py",
   "mimetype": "text/x-python",
   "name": "python",
   "nbconvert_exporter": "python",
   "pygments_lexer": "ipython3",
   "version": "3.6.1"
  }
 },
 "nbformat": 4,
 "nbformat_minor": 2
}
