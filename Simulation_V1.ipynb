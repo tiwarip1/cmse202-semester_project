{
 "cells": [
  {
   "cell_type": "code",
   "execution_count": 8,
   "metadata": {},
   "outputs": [],
   "source": [
    "# The file to store our classes\n",
    "import numpy as np\n",
    "from ivisual import *\n",
    "\n",
    "class system:\n",
    "    def __init__(self, board_x=10, board_y=10, board_z=10, num_particles=100, temp=2):\n",
    "        '''\n",
    "        Initialize the board\n",
    "        '''\n",
    "        self.board_x = board_x   # Size is from 0 to these maximums\n",
    "        self.board_y = board_y\n",
    "        self.board_z = board_z\n",
    "\n",
    "        self.n = num_particles\n",
    "        self.particles = []\n",
    "    \n",
    "        self.dt = 0.01\n",
    "\n",
    "        self.temp = temp     # degrees Kelvin\n",
    "        self.energy = 3/2 * self.temp\n",
    "        self.initial_particles()\n",
    "\n",
    "\n",
    "    def initial_particles(self):\n",
    "        '''\n",
    "        Initialize the list of particles\n",
    "        '''\n",
    "        for i in range(self.n):\n",
    "            pos_x = np.random.uniform(0,self.board_x-0.2)  # Subtract the radius\n",
    "            pos_y = np.random.uniform(0,self.board_y-0.2)\n",
    "            pos_z = np.random.uniform(0,self.board_z-0.2)\n",
    "            particle = sphere(pos=tuple((pos_x,pos_y,pos_z)), radius=0.2)\n",
    "            particle.mass = 4\n",
    "            vel = np.random.uniform(0,1,size=3)\n",
    "            vel = vel/np.linalg.norm(vel)*(2*particle.mass*self.energy)**(1/2)\n",
    "\n",
    "            self.particles.append(particle)\n",
    "\n",
    "    def move(self):\n",
    "        '''\n",
    "        Update the positions of the particles (one iteration)\n",
    "        '''\n",
    "        for p in self.particles:\n",
    "            p.pos += p.velocity*self.dt\n",
    "            if p.pos.x >= self.board_x or p.pos.x <= 0:\n",
    "                p.velocity.x *= -1\n",
    "            if p.pos.y >= self.board_y or p.pos.y <= 0:\n",
    "                p.velocity.y *= -1\n",
    "            if p.pos.z >= self.board_z or p.pos.z <= 0:\n",
    "                p.velocity.z *= -1\n"
   ]
  },
  {
   "cell_type": "code",
   "execution_count": 9,
   "metadata": {},
   "outputs": [
    {
     "data": {
      "text/html": [
       "<div id=\"scene4\"><div id=\"glowscript\" class=\"glowscript\"></div></div>"
      ],
      "text/plain": [
       "<IPython.core.display.HTML object>"
      ]
     },
     "metadata": {},
     "output_type": "display_data"
    },
    {
     "data": {
      "application/javascript": [
       "window.__context = { glowscript_container: $(\"#glowscript\").removeAttr(\"id\")}"
      ],
      "text/plain": [
       "<IPython.core.display.Javascript object>"
      ]
     },
     "metadata": {},
     "output_type": "display_data"
    }
   ],
   "source": [
    "scene = canvas()\n",
    "box = system()"
   ]
  },
  {
   "cell_type": "code",
   "execution_count": null,
   "metadata": {
    "collapsed": true
   },
   "outputs": [],
   "source": []
  }
 ],
 "metadata": {
  "kernelspec": {
   "display_name": "Python 3",
   "language": "python",
   "name": "python3"
  },
  "language_info": {
   "codemirror_mode": {
    "name": "ipython",
    "version": 3
   },
   "file_extension": ".py",
   "mimetype": "text/x-python",
   "name": "python",
   "nbconvert_exporter": "python",
   "pygments_lexer": "ipython3",
   "version": "3.6.1"
  }
 },
 "nbformat": 4,
 "nbformat_minor": 2
}
